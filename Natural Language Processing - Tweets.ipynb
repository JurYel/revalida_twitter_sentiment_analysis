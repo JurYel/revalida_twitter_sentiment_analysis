{
 "cells": [
  {
   "cell_type": "code",
   "execution_count": 16,
   "id": "70522162",
   "metadata": {},
   "outputs": [],
   "source": [
    "import os, re, csv\n",
    "import numpy as np\n",
    "import pandas as pd\n",
    "\n",
    "data_dir = \"data/2017_English_final/Subtask_A/\"\n",
    "train_files = [\n",
    "    'twitter-2013train-A.txt',\n",
    "    'twitter-2013dev-A.txt',\n",
    "    'twitter-2013test-A.txt',\n",
    "    'twitter-2014sarcasm-A.txt', \n",
    "    'twitter-2014test-A.txt',\n",
    "    'twitter-2015train-A.txt',\n",
    "    'twitter-2015test-A.txt',\n",
    "    'twitter-2016train-A.txt',\n",
    "    'twitter-2016dev-A.txt',\n",
    "    'twitter-2016devtest-A.txt',\n",
    "    'twitter-2016test-A.txt',\n",
    "]"
   ]
  },
  {
   "cell_type": "code",
   "execution_count": 17,
   "id": "01571e87",
   "metadata": {},
   "outputs": [
    {
     "name": "stdout",
     "output_type": "stream",
     "text": [
      "Total number of examples for training: 49675\n",
      "Distribution of classes: \n",
      "neutral     0.448032\n",
      "positive    0.395994\n",
      "negative    0.155974\n",
      "Name: label, dtype: float64\n"
     ]
    },
    {
     "data": {
      "text/html": [
       "<div>\n",
       "<style scoped>\n",
       "    .dataframe tbody tr th:only-of-type {\n",
       "        vertical-align: middle;\n",
       "    }\n",
       "\n",
       "    .dataframe tbody tr th {\n",
       "        vertical-align: top;\n",
       "    }\n",
       "\n",
       "    .dataframe thead th {\n",
       "        text-align: right;\n",
       "    }\n",
       "</style>\n",
       "<table border=\"1\" class=\"dataframe\">\n",
       "  <thead>\n",
       "    <tr style=\"text-align: right;\">\n",
       "      <th></th>\n",
       "      <th>label</th>\n",
       "      <th>message</th>\n",
       "    </tr>\n",
       "    <tr>\n",
       "      <th>id</th>\n",
       "      <th></th>\n",
       "      <th></th>\n",
       "    </tr>\n",
       "  </thead>\n",
       "  <tbody>\n",
       "    <tr>\n",
       "      <th>640329403277438976</th>\n",
       "      <td>neutral</td>\n",
       "      <td>[ARIRANG] SIMPLY KPOP - Kim Hyung Jun - Cross ...</td>\n",
       "    </tr>\n",
       "    <tr>\n",
       "      <th>640810454730833920</th>\n",
       "      <td>neutral</td>\n",
       "      <td>@TyTomlinson just read a politico article abou...</td>\n",
       "    </tr>\n",
       "    <tr>\n",
       "      <th>111344128507392000</th>\n",
       "      <td>neutral</td>\n",
       "      <td>I just typed in \"the Bazura Project\" into goog...</td>\n",
       "    </tr>\n",
       "    <tr>\n",
       "      <th>641414049083691009</th>\n",
       "      <td>neutral</td>\n",
       "      <td>Fast Lerner: Subpoenaed tech guy who worked on...</td>\n",
       "    </tr>\n",
       "    <tr>\n",
       "      <th>637666734300905472</th>\n",
       "      <td>negative</td>\n",
       "      <td>Sony rewards app is like a lot of 19 y.o femal...</td>\n",
       "    </tr>\n",
       "  </tbody>\n",
       "</table>\n",
       "</div>"
      ],
      "text/plain": [
       "                       label  \\\n",
       "id                             \n",
       "640329403277438976   neutral   \n",
       "640810454730833920   neutral   \n",
       "111344128507392000   neutral   \n",
       "641414049083691009   neutral   \n",
       "637666734300905472  negative   \n",
       "\n",
       "                                                              message  \n",
       "id                                                                     \n",
       "640329403277438976  [ARIRANG] SIMPLY KPOP - Kim Hyung Jun - Cross ...  \n",
       "640810454730833920  @TyTomlinson just read a politico article abou...  \n",
       "111344128507392000  I just typed in \"the Bazura Project\" into goog...  \n",
       "641414049083691009  Fast Lerner: Subpoenaed tech guy who worked on...  \n",
       "637666734300905472  Sony rewards app is like a lot of 19 y.o femal...  "
      ]
     },
     "execution_count": 17,
     "metadata": {},
     "output_type": "execute_result"
    }
   ],
   "source": [
    "def load_dataframe(file_path):\n",
    "    return pd.read_csv(\n",
    "        file_path,\n",
    "        sep='\\t',\n",
    "        quoting=csv.QUOTE_NONE,\n",
    "        usecols=[0,1,2],\n",
    "        names=['id', 'label', 'message'],\n",
    "        index_col=0,\n",
    "        dtype={'label': 'category'}\n",
    "    )\n",
    "\n",
    "train_dfs = []\n",
    "for f in train_files:\n",
    "    train_dfs.append(load_dataframe(os.path.join(data_dir, f)))\n",
    "    \n",
    "tweets_train = pd.concat(train_dfs)\n",
    "# Dropping duplicates, as mentioned in its README there are 665 duplicate annotations across and within the files of Subtask_A\n",
    "tweets_train.drop_duplicates(inplace=True)\n",
    "# Dropping null records, either without label, or without message\n",
    "tweets_train.dropna(inplace=True)\n",
    "# Randomizing the arrangement of the records\n",
    "tweets_train = tweets_train.sample(frac=1.0, random_state=42)\n",
    "\n",
    "# Clean and prepare messages\n",
    "def preprocess_messages(messages):\n",
    "    \n",
    "    messages = messages.str.decode('unicode_escape', errors='ignore')\n",
    "    messages = messages.str.strip('\"') # remove left-most and right-most quotation mark\n",
    "    messages = messages.str.replace('\"\"', '\"', regex=False) # replacing double quotation to single quotation\n",
    "\n",
    "    return messages\n",
    "\n",
    "tweets_train['message'] = preprocess_messages(tweets_train['message'])\n",
    "\n",
    "print(f\"Total number of examples for training: {len(tweets_train)}\\nDistribution of classes: \\n{tweets_train['label'].value_counts() / len(tweets_train)}\")\n",
    "tweets_train.head()"
   ]
  },
  {
   "cell_type": "code",
   "execution_count": 18,
   "id": "681d7298",
   "metadata": {},
   "outputs": [
    {
     "data": {
      "text/html": [
       "<div>\n",
       "<style scoped>\n",
       "    .dataframe tbody tr th:only-of-type {\n",
       "        vertical-align: middle;\n",
       "    }\n",
       "\n",
       "    .dataframe tbody tr th {\n",
       "        vertical-align: top;\n",
       "    }\n",
       "\n",
       "    .dataframe thead th {\n",
       "        text-align: right;\n",
       "    }\n",
       "</style>\n",
       "<table border=\"1\" class=\"dataframe\">\n",
       "  <thead>\n",
       "    <tr style=\"text-align: right;\">\n",
       "      <th></th>\n",
       "      <th>label</th>\n",
       "    </tr>\n",
       "    <tr>\n",
       "      <th>id</th>\n",
       "      <th></th>\n",
       "    </tr>\n",
       "  </thead>\n",
       "  <tbody>\n",
       "    <tr>\n",
       "      <th>640329403277438976</th>\n",
       "      <td>1</td>\n",
       "    </tr>\n",
       "    <tr>\n",
       "      <th>640810454730833920</th>\n",
       "      <td>1</td>\n",
       "    </tr>\n",
       "    <tr>\n",
       "      <th>111344128507392000</th>\n",
       "      <td>1</td>\n",
       "    </tr>\n",
       "    <tr>\n",
       "      <th>641414049083691009</th>\n",
       "      <td>1</td>\n",
       "    </tr>\n",
       "    <tr>\n",
       "      <th>637666734300905472</th>\n",
       "      <td>0</td>\n",
       "    </tr>\n",
       "    <tr>\n",
       "      <th>...</th>\n",
       "      <td>...</td>\n",
       "    </tr>\n",
       "    <tr>\n",
       "      <th>264260341070954497</th>\n",
       "      <td>0</td>\n",
       "    </tr>\n",
       "    <tr>\n",
       "      <th>641411364641206277</th>\n",
       "      <td>1</td>\n",
       "    </tr>\n",
       "    <tr>\n",
       "      <th>636722845599469568</th>\n",
       "      <td>1</td>\n",
       "    </tr>\n",
       "    <tr>\n",
       "      <th>264084248057765888</th>\n",
       "      <td>1</td>\n",
       "    </tr>\n",
       "    <tr>\n",
       "      <th>276099025340612608</th>\n",
       "      <td>1</td>\n",
       "    </tr>\n",
       "  </tbody>\n",
       "</table>\n",
       "<p>49675 rows × 1 columns</p>\n",
       "</div>"
      ],
      "text/plain": [
       "                    label\n",
       "id                       \n",
       "640329403277438976      1\n",
       "640810454730833920      1\n",
       "111344128507392000      1\n",
       "641414049083691009      1\n",
       "637666734300905472      0\n",
       "...                   ...\n",
       "264260341070954497      0\n",
       "641411364641206277      1\n",
       "636722845599469568      1\n",
       "264084248057765888      1\n",
       "276099025340612608      1\n",
       "\n",
       "[49675 rows x 1 columns]"
      ]
     },
     "execution_count": 18,
     "metadata": {},
     "output_type": "execute_result"
    }
   ],
   "source": [
    "pd.DataFrame(tweets_train_y, columns=['label'])"
   ]
  },
  {
   "cell_type": "code",
   "execution_count": 19,
   "id": "40c88afb",
   "metadata": {},
   "outputs": [
    {
     "data": {
      "text/plain": [
       "['negative', 'neutral', 'positive']"
      ]
     },
     "execution_count": 19,
     "metadata": {},
     "output_type": "execute_result"
    }
   ],
   "source": [
    "# Mapping the labels 'negative', 'neutral' and 'positive' into 0, 1, 2\n",
    "tweets_train_y = tweets_train['label'].cat.codes\n",
    "labels = tweets_train.label.cat.categories.tolist()\n",
    "labels"
   ]
  },
  {
   "cell_type": "code",
   "execution_count": 20,
   "id": "a6b4af94",
   "metadata": {},
   "outputs": [
    {
     "data": {
      "text/plain": [
       "{'negative': 0, 'neutral': 1, 'positive': 2}"
      ]
     },
     "execution_count": 20,
     "metadata": {},
     "output_type": "execute_result"
    }
   ],
   "source": [
    "labels_codes = {}\n",
    "\n",
    "for i, label in enumerate(labels):\n",
    "    labels_codes[label] = i\n",
    "\n",
    "labels_codes"
   ]
  },
  {
   "cell_type": "markdown",
   "id": "c0723ed1",
   "metadata": {},
   "source": [
    "However, we cannot simply give these sentences to a machine learning model and ask it to tell us whether a review was positive or negative or neutral. We need to perform certain text preprocessing steps."
   ]
  },
  {
   "cell_type": "markdown",
   "id": "bb6bcf43",
   "metadata": {},
   "source": [
    "**Text Processing** - from **Text** to **Vectors**"
   ]
  },
  {
   "cell_type": "markdown",
   "id": "3e5b3e62",
   "metadata": {},
   "source": [
    "**I. Tokenization**"
   ]
  },
  {
   "cell_type": "code",
   "execution_count": 21,
   "id": "2797799c",
   "metadata": {},
   "outputs": [
    {
     "data": {
      "text/html": [
       "<div>\n",
       "<style scoped>\n",
       "    .dataframe tbody tr th:only-of-type {\n",
       "        vertical-align: middle;\n",
       "    }\n",
       "\n",
       "    .dataframe tbody tr th {\n",
       "        vertical-align: top;\n",
       "    }\n",
       "\n",
       "    .dataframe thead th {\n",
       "        text-align: right;\n",
       "    }\n",
       "</style>\n",
       "<table border=\"1\" class=\"dataframe\">\n",
       "  <thead>\n",
       "    <tr style=\"text-align: right;\">\n",
       "      <th></th>\n",
       "      <th>message</th>\n",
       "      <th>label</th>\n",
       "    </tr>\n",
       "    <tr>\n",
       "      <th>id</th>\n",
       "      <th></th>\n",
       "      <th></th>\n",
       "    </tr>\n",
       "  </thead>\n",
       "  <tbody>\n",
       "    <tr>\n",
       "      <th>640329403277438976</th>\n",
       "      <td>arirang simply kpop kim hyung jun cross ha yeo...</td>\n",
       "      <td>1</td>\n",
       "    </tr>\n",
       "    <tr>\n",
       "      <th>640810454730833920</th>\n",
       "      <td>read politico article donald trump running mat...</td>\n",
       "      <td>1</td>\n",
       "    </tr>\n",
       "    <tr>\n",
       "      <th>111344128507392000</th>\n",
       "      <td>type bazura project google image image photo d...</td>\n",
       "      <td>1</td>\n",
       "    </tr>\n",
       "    <tr>\n",
       "      <th>641414049083691009</th>\n",
       "      <td>fast lerner subpoena tech guy work hillary pri...</td>\n",
       "      <td>1</td>\n",
       "    </tr>\n",
       "    <tr>\n",
       "      <th>637666734300905472</th>\n",
       "      <td>sony reward app like lot female singer non ret...</td>\n",
       "      <td>0</td>\n",
       "    </tr>\n",
       "  </tbody>\n",
       "</table>\n",
       "</div>"
      ],
      "text/plain": [
       "                                                              message  label\n",
       "id                                                                          \n",
       "640329403277438976  arirang simply kpop kim hyung jun cross ha yeo...      1\n",
       "640810454730833920  read politico article donald trump running mat...      1\n",
       "111344128507392000  type bazura project google image image photo d...      1\n",
       "641414049083691009  fast lerner subpoena tech guy work hillary pri...      1\n",
       "637666734300905472  sony reward app like lot female singer non ret...      0"
      ]
     },
     "execution_count": 21,
     "metadata": {},
     "output_type": "execute_result"
    }
   ],
   "source": [
    "import spacy\n",
    "from sklearn.base import BaseEstimator, TransformerMixin\n",
    "\n",
    "class TweetTokenizer(BaseEstimator, TransformerMixin):\n",
    "    \"\"\"\n",
    "    Inherits the BaseEstimator and TransformerMixin (which contains \n",
    "    the fit and transform functions) class from sklearn\n",
    "    used spacy for tokenization and lemmatization    \n",
    "    \"\"\"\n",
    "    \n",
    "    def __init__(self):\n",
    "        # initializing spacy pipeline\n",
    "        self.nlp = spacy.load('en_core_web_sm', disable = ['ner', 'parser', 'textcat'])\n",
    "        self.stops = self.nlp.Defaults.stop_words\n",
    "        \n",
    "        # Removing negation words from the default stopwords set\n",
    "        # cannot, no, neevr, nothing, none, without, nor, neither, nobody, nowhere\n",
    "        # not is already in the default stopwords\n",
    "        negation_words = ['cannot','no', 'never', 'nothing','none','without','nor','neither','nobody','nowhere']\n",
    "        \n",
    "        for neg in negation_words:\n",
    "            self.stops.add(neg)\n",
    "            \n",
    "    def fit(self, X, y=None):\n",
    "        return self\n",
    "    \n",
    "    def transform(self, messages):\n",
    "        \n",
    "        # Replace all whitespace characters by only one space\n",
    "        messages = messages.str.replace(r'\\s+', ' ', regex=True)\n",
    "        messages = messages.str.strip()\n",
    "        messages = messages.str.lower()\n",
    "        \n",
    "        # returns a lemmatized version of a token if it is not a stop word and is an alphabet character\n",
    "        return messages.apply(lambda msg: \" \".join([token.lemma_ for token in self.nlp(msg) if (token.is_alpha and token.lemma_.lower() not in self.stops)]))\n",
    "\n",
    "# Let's see some examples\n",
    "tweets_train_tokenized = pd.DataFrame({'message': [], 'label': []})\n",
    "tweets_train_tokenized['message'] = TweetTokenizer().fit_transform(tweets_train['message'])\n",
    "tweets_train_tokenized['label'] = tweets_train_y\n",
    "\n",
    "tweets_train_tokenized.head()"
   ]
  },
  {
   "cell_type": "code",
   "execution_count": 22,
   "id": "736e0d2a",
   "metadata": {},
   "outputs": [],
   "source": [
    "tweets_train_tokenized.to_csv(\"tweets_train_tokens.csv\", index=False)"
   ]
  },
  {
   "cell_type": "code",
   "execution_count": null,
   "id": "38ff3755",
   "metadata": {},
   "outputs": [],
   "source": []
  }
 ],
 "metadata": {
  "kernelspec": {
   "display_name": "Python 3 (ipykernel)",
   "language": "python",
   "name": "python3"
  },
  "language_info": {
   "codemirror_mode": {
    "name": "ipython",
    "version": 3
   },
   "file_extension": ".py",
   "mimetype": "text/x-python",
   "name": "python",
   "nbconvert_exporter": "python",
   "pygments_lexer": "ipython3",
   "version": "3.10.7"
  }
 },
 "nbformat": 4,
 "nbformat_minor": 5
}
